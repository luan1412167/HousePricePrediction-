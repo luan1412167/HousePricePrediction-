{
  "nbformat": 4,
  "nbformat_minor": 0,
  "metadata": {
    "colab": {
      "name": "predicthouseprice.ipynb",
      "version": "0.3.2",
      "provenance": [],
      "private_outputs": true,
      "toc_visible": true,
      "include_colab_link": true
    },
    "kernelspec": {
      "name": "python3",
      "display_name": "Python 3"
    },
    "accelerator": "GPU"
  },
  "cells": [
    {
      "cell_type": "markdown",
      "metadata": {
        "id": "view-in-github",
        "colab_type": "text"
      },
      "source": [
        "[![Open In Colab](https://colab.research.google.com/assets/colab-badge.svg)](https://colab.research.google.com/github/luandaoduy96/HousePricePrediction-/blob/master/predicthouseprice.ipynb)"
      ]
    },
    {
      "metadata": {
        "colab_type": "code",
        "colab": {},
        "id": "NsFfkK70JlgI",
        "cellView": "both"
      },
      "cell_type": "code",
      "source": [
        "#@title!apt-get update -qq 2>&1 > /dev/null\n",
        "!apt-get install -y -qq software-properties-common python-software-properties module-init-tools\n",
        "!add-apt-repository -y ppa:alessandro-strada/ppa 2>&1 > /dev/null\n",
        "!apt-get update -qq 2>&1 > /dev/null\n",
        "!apt-get -y install -qq google-drive-ocamlfuse fuse \n",
        "from google.colab import drive\n",
        "drive.mount('/content/drive')"
      ],
      "execution_count": 0,
      "outputs": []
    },
    {
      "metadata": {
        "id": "iOg3PvncLYw8",
        "colab_type": "code",
        "colab": {}
      },
      "cell_type": "code",
      "source": [
        "import matplotlib.pyplot as plt\n",
        "import numpy as np\n",
        "import pandas as pd\n",
        "%matplotlib inline\n",
        "plt.rcParams['figure.figsize'] = (10.0, 8.0)\n",
        "import seaborn as sns\n",
        "from scipy import stats\n",
        "from scipy.stats import norm\n"
      ],
      "execution_count": 0,
      "outputs": []
    },
    {
      "metadata": {
        "id": "CcUnQgE7cSK2",
        "colab_type": "code",
        "colab": {},
        "cellView": "code"
      },
      "cell_type": "code",
      "source": [
        "#loading data\n",
        "train = pd.read_csv(\"drive/My Drive/train.csv\")\n",
        "test = pd.read_csv(\"drive/My Drive/test.csv\")\n",
        "\n",
        "print ('The train data has {0} rows and {1} columns'.format(train.shape[0],train.shape[1]))\n",
        "print ('----------------------------')\n",
        "print ('The test data has {0} rows and {1} columns'.format(test.shape[0],test.shape[1]))\n",
        "\n"
      ],
      "execution_count": 0,
      "outputs": []
    },
    {
      "metadata": {
        "id": "jUOzWDWMcXE8",
        "colab_type": "code",
        "colab": {}
      },
      "cell_type": "code",
      "source": [
        "#compute missing data\n",
        "miss = train.isnull().sum()\n",
        "miss = miss[miss > 0]\n",
        "miss.sort_values(inplace=True)\n",
        "print(miss)\n",
        "print('------------------------------------------------------------')\n",
        "numeric_data=train.select_dtypes(exclude = 'object')\n",
        "cat_data=train.select_dtypes(include = 'object')\n",
        "print (\"There are {} numeric and {} categorical columns in train data\".format(numeric_data.shape[1],cat_data.shape[1]))\n",
        "print('------------------------------------------------------------')\n",
        "miss = numeric_data.isnull().sum()\n",
        "miss = miss[miss > 0]\n",
        "miss.sort_values(inplace=True)\n",
        "print(miss)\n",
        "print('------------------------------------------------------------')\n",
        "miss = cat_data.isnull().sum()\n",
        "miss = miss[miss > 0]\n",
        "miss.sort_values(inplace=True)\n",
        "print(miss)\n"
      ],
      "execution_count": 0,
      "outputs": []
    },
    {
      "metadata": {
        "id": "MJvonygveOgj",
        "colab_type": "code",
        "colab": {}
      },
      "cell_type": "code",
      "source": [
        "#SalePrice\n",
        "print(train['SalePrice'].skew())\n",
        "sns.distplot(train['SalePrice'])\n",
        "plt.show()"
      ],
      "execution_count": 0,
      "outputs": []
    },
    {
      "metadata": {
        "id": "UjY1b2vAeaNG",
        "colab_type": "code",
        "colab": {}
      },
      "cell_type": "code",
      "source": [
        "#now log transformation for the target variable\n",
        "target = np.log(train['SalePrice'])\n",
        "print ('Skewness is {} and Kurtosis is {}'.format(target.skew(),target.kurt()))\n",
        "sns.distplot(target)\n",
        "plt.show()"
      ],
      "execution_count": 0,
      "outputs": []
    },
    {
      "metadata": {
        "id": "Fhz2QWioe5st",
        "colab_type": "code",
        "colab": {}
      },
      "cell_type": "code",
      "source": [
        "#correlation plot\n",
        "corr = numeric_data.corr()\n",
        "sns.heatmap(corr)\n",
        "plt.show()\n",
        "#print(numeric_data.columns)\n",
        "#print(corr[corr['SalePrice'].values<=0].index)\n",
        "#print(corr['SalePrice'].values)\n",
        "#print(corr['SalePrice'].MSSubClass)\n",
        "#for i in corr['SalePrice'].index\n",
        "#    if corr['SalePrice'].values >0\n",
        " \n",
        "numeric_data=numeric_data.drop(columns=corr[corr['SalePrice'].values<=0].index)\n",
        "print(numeric_data.columns)\n",
        "print ('----------------------------------------------------------------------')\n",
        "print (corr['SalePrice'].sort_values(ascending=False)[:], '\\n')\n",
        "#print ('----------------------')\n",
        "#print (corr['SalePrice'].sort_values(ascending=False)[-5:]) #last 5 values"
      ],
      "execution_count": 0,
      "outputs": []
    },
    {
      "metadata": {
        "id": "UhvpxzcYpebG",
        "colab_type": "code",
        "colab": {}
      },
      "cell_type": "code",
      "source": [
        "cat = [f for f in train.columns if train.dtypes[f] == 'object']\n",
        "def anova(frame):\n",
        "    anv = pd.DataFrame()\n",
        "    anv['features'] = cat\n",
        "    pvals = []\n",
        "    for c in cat:\n",
        "           samples = []\n",
        "           for cls in frame[c].unique():\n",
        "                  s = frame[frame[c] == cls]['SalePrice'].values\n",
        "                  samples.append(s)\n",
        "           pval = stats.f_oneway(*samples)[1]\n",
        "           pvals.append(pval)\n",
        "    anv['pval'] = pvals\n",
        "    return anv.sort_values('pval')\n",
        "\n",
        "cat_data['SalePrice'] = train.SalePrice.values\n",
        "k = anova(cat_data) \n",
        "k['disparity'] = np.log(1./k['pval'].values) \n",
        "sns.barplot(data=k, x = 'features', y='disparity')\n",
        "plt.xticks(rotation=90) \n"
      ],
      "execution_count": 0,
      "outputs": []
    },
    {
      "metadata": {
        "id": "kb4by0bwVeXV",
        "colab_type": "code",
        "colab": {}
      },
      "cell_type": "code",
      "source": [
        "print('------------------------------------------------------------')\n",
        "alldata = train.append(test)\n",
        "all_numeric_data = alldata.select_dtypes(exclude = 'object')\n",
        "all_cat_data = alldata.select_dtypes(include = 'object')\n",
        "print(alldata.shape)\n",
        "print('------------------------------------------------------------')\n",
        "missnumeric = all_numeric_data.isnull().sum()\n",
        "missnumeric = missnumeric[missnumeric > 0]\n",
        "missnumeric.sort_values(inplace=True)\n",
        "print(missnumeric)\n",
        "print('------------------------------------------------------------')\n",
        "misscat = all_cat_data.isnull().sum()\n",
        "misscat = misscat[misscat > 0]\n",
        "misscat.sort_values(inplace=True)\n",
        "print(misscat)\n",
        "alldata['LotFrontage'].fillna(all_numeric_data['LotFrontage'].mean(),inplace=True)\n",
        "alldata['MasVnrArea'].fillna(all_numeric_data['MasVnrArea'].mean(),inplace=True)\n",
        "alldata['GarageYrBlt'].fillna(1980,inplace=True)\n",
        "alldata['BsmtFinSF1'].fillna(all_numeric_data['BsmtFinSF1'].mean(),inplace=True)\n",
        "alldata['BsmtFinSF2'].fillna(all_numeric_data['BsmtFinSF2'].mean(),inplace=True)\n",
        "alldata['BsmtUnfSF'].fillna(all_numeric_data['BsmtUnfSF'].mean(),inplace=True)\n",
        "alldata['GarageArea'].fillna(all_numeric_data['GarageArea'].mean(),inplace=True)\n",
        "alldata['GarageCars'].fillna(2,inplace=True)\n",
        "alldata['TotalBsmtSF'].fillna(all_numeric_data['TotalBsmtSF'].mean(),inplace=True)\n",
        "alldata['BsmtFullBath'].fillna(2,inplace=True)\n",
        "alldata['BsmtHalfBath'].fillna(0,inplace=True)\n",
        "all_numeric_data = alldata.select_dtypes(exclude = 'object')\n",
        "miss = all_numeric_data.isnull().sum()\n",
        "print(miss)\n",
        "print('------------------------------------------------------------')\n",
        "dropvalue=['PoolQC','MiscFeature','Fence','FireplaceQu','Alley']\n",
        "alldata.drop(dropvalue,axis=1,inplace=True)\n",
        "print(all_cat_data.columns)\n",
        "print('------------------------------------------------------------')\n",
        "misscat = alldata.isnull().sum()\n",
        "misscat = misscat[misscat > 0]\n",
        "misscat.sort_values(inplace=True)\n",
        "print(misscat)\n",
        "print('------------------------------------------------------------')"
      ],
      "execution_count": 0,
      "outputs": []
    },
    {
      "metadata": {
        "id": "mObNf0TUGSTY",
        "colab_type": "code",
        "colab": {}
      },
      "cell_type": "code",
      "source": [
        "var = 'OverallQual'\n",
        "data=pd.concat([all_numeric_data['SalePrice'],all_numeric_data[var]],axis=1)\n",
        "data.plot.scatter(x=var,y='SalePrice',ylim=(0,800000))\n",
        "\n"
      ],
      "execution_count": 0,
      "outputs": []
    },
    {
      "metadata": {
        "id": "-yHRK1K3Nq0K",
        "colab_type": "code",
        "colab": {}
      },
      "cell_type": "code",
      "source": [
        "#scatter plot grlivarea/saleprice\n",
        "var = 'GrLivArea'\n",
        "data = pd.concat([all_numeric_data['SalePrice'], all_numeric_data[var]], axis=1)\n",
        "data.plot.scatter(x=var, y='SalePrice', ylim=(0,800000));"
      ],
      "execution_count": 0,
      "outputs": []
    },
    {
      "metadata": {
        "id": "jhOPeng1Pqqt",
        "colab_type": "code",
        "colab": {}
      },
      "cell_type": "code",
      "source": [
        "all_numeric_data.drop(all_numeric_data[all_numeric_data['GrLivArea']>4000].index,inplace=True)\n",
        "var = 'GrLivArea'\n",
        "data = pd.concat([all_numeric_data['SalePrice'], all_numeric_data[var]], axis=1)\n",
        "data.plot.scatter(x=var, y='SalePrice', ylim=(0,800000),xlim=(0,6000));"
      ],
      "execution_count": 0,
      "outputs": []
    },
    {
      "metadata": {
        "id": "6E_9bkz6QljC",
        "colab_type": "code",
        "colab": {}
      },
      "cell_type": "code",
      "source": [
        "var = 'GarageCars'\n",
        "data = pd.concat([all_numeric_data['SalePrice'], all_numeric_data[var]], axis=1)\n",
        "data.plot.scatter(x=var, y='SalePrice', ylim=(0,800000));"
      ],
      "execution_count": 0,
      "outputs": []
    },
    {
      "metadata": {
        "id": "6KgYoC7zRITl",
        "colab_type": "code",
        "colab": {}
      },
      "cell_type": "code",
      "source": [
        "var='GarageArea'\n",
        "data = pd.concat([all_numeric_data['SalePrice'],all_numeric_data[var]],axis=1)\n",
        "data.plot.scatter(y='SalePrice',x=var,ylim=(0,800000))"
      ],
      "execution_count": 0,
      "outputs": []
    },
    {
      "metadata": {
        "id": "dxUfmhxhSFay",
        "colab_type": "code",
        "colab": {}
      },
      "cell_type": "code",
      "source": [
        "all_numeric_data.drop(all_numeric_data[all_numeric_data['GarageArea']>1200].index,inplace=True)\n",
        "var='GarageArea'\n",
        "data = pd.concat([all_numeric_data['SalePrice'],all_numeric_data[var]],axis=1)\n",
        "data.plot.scatter(y='SalePrice',x=var,ylim=(0,800000))"
      ],
      "execution_count": 0,
      "outputs": []
    },
    {
      "metadata": {
        "id": "FgSZahoMupSZ",
        "colab_type": "code",
        "colab": {}
      },
      "cell_type": "code",
      "source": [
        "#importing function\n",
        "alldata1=alldata.copy()\n",
        "all_numeric_data1=alldata1.select_dtypes(exclude='object')\n",
        "all_cat_data1=alldata1.select_dtypes(include='object')\n",
        "\n",
        "from sklearn.preprocessing import LabelEncoder\n",
        "le = LabelEncoder()\n",
        "def factorize(data, var, fill_na = None):\n",
        "      if fill_na is not None:\n",
        "            data[var].fillna(fill_na, inplace=True)\n",
        "      le.fit(data[var])\n",
        "      data[var] = le.transform(data[var])\n",
        "      return data\n",
        "\n",
        "\n",
        "qual_dict = {np.nan: 0, \"Po\": 1, \"Fa\": 2, \"TA\": 3, \"Gd\": 4, \"Ex\": 5}\n",
        "name = np.array(['ExterQual','ExterCond','BsmtQual','BsmtCond','HeatingQC','KitchenQual', 'GarageQual','GarageCond'])\n",
        "\n",
        "for i in name:\n",
        "     alldata1[i] = alldata1[i].map(qual_dict).astype(int)\n",
        "\n",
        "alldata1[\"GarageFinish\"] = alldata1[\"GarageFinish\"].map({np.nan: 0, \"Unf\": 1, \"RFn\": 2, \"Fin\": 3}).astype(int)\n",
        "alldata1[\"GarageType\"] = alldata1[\"GarageType\"].map({np.nan: 0, \"Detchd\": 1, \"CarPort\": 2, \"BuiltIn\": 3, \"Basment\": 4, \"Attchd\": 5, \"2Types\": 6}).astype(int)\n",
        "alldata1[\"BsmtExposure\"] = alldata1[\"BsmtExposure\"].map({np.nan: 0, \"No\": 1, \"Mn\": 2, \"Av\": 3, \"Gd\": 4}).astype(int)\n",
        "bsmt_fin_dict = {np.nan: 0, \"Unf\": 1, \"LwQ\": 2, \"Rec\": 3, \"BLQ\": 4, \"ALQ\": 5, \"GLQ\": 6}\n",
        "alldata1[\"BsmtFinType1\"] = alldata1[\"BsmtFinType1\"].map(bsmt_fin_dict).astype(int)\n",
        "alldata1[\"BsmtFinType2\"] = alldata1[\"BsmtFinType2\"].map(bsmt_fin_dict).astype(int)\n",
        "#encoding data\n",
        "alldata1[\"CentralAir\"] = (alldata1[\"CentralAir\"] == \"Y\") * 1.0\n",
        "\n",
        "varst = np.array(['LotConfig','Neighborhood','Condition1','BldgType','HouseStyle','RoofStyle','Foundation','SaleCondition','Condition2','Heating','LandContour','LandSlope','PavedDrive','RoofMatl','Street','LotShape'])\n",
        "\n",
        "for x in varst:\n",
        "         factorize(alldata1, x)\n",
        "\n",
        "#encode variables and impute missing values\n",
        "alldata1 = factorize(alldata1, \"MSZoning\", \"RL\")\n",
        "alldata1 = factorize(alldata1, \"Exterior1st\", \"Other\")\n",
        "alldata1 = factorize(alldata1, \"Exterior2nd\", \"Other\")\n",
        "alldata1 = factorize(alldata1, \"MasVnrType\", \"None\")\n",
        "alldata1 = factorize(alldata1, \"SaleType\", \"Oth\")\n",
        "alldata1 = factorize(alldata1, \"Utilities\", \"ELO\")\n",
        "alldata1 = factorize(alldata1, \"Functional\", \"Sal\")\n",
        "alldata1 = factorize(alldata1, \"Electrical\", \"Mix\")\n",
        "\n",
        "all_numeric_data1=alldata1.select_dtypes(exclude='object')\n",
        "all_cat_data1=alldata1.select_dtypes(include='object')\n",
        "print(all_cat_data1.columns)\n",
        "misscat = all_cat_data1.isnull().sum()\n",
        "misscat = misscat[misscat > 0]\n",
        "misscat.sort_values(inplace=True)\n",
        "print(misscat)\n",
        "print('------------------------------------------------------------')\n",
        "print(alldata1.shape)"
      ],
      "execution_count": 0,
      "outputs": []
    },
    {
      "metadata": {
        "id": "yinsgjft4Sl1",
        "colab_type": "code",
        "colab": {}
      },
      "cell_type": "code",
      "source": [
        "train_new = alldata1[alldata1['SalePrice'].notnull()]\n",
        "miss = train_new.isnull().sum()\n",
        "miss=miss[miss>0]\n",
        "print(miss)\n",
        "\n",
        "test_new = alldata1[alldata1['SalePrice'].isnull()]\n",
        "print(train_new.shape,test_new.shape)\n",
        "print('------------------------------------------------------------')\n",
        "columns = [f for f in train_new.columns if train_new[f].dtype != object]\n",
        "print(columns)\n",
        "#transform the numeric features using log(x + 1)\n",
        "from scipy.stats import skew\n",
        "skewed = train_new[columns].apply(lambda x: skew(x.dropna().astype(float)))\n",
        "skewed = skewed[skewed > 0.75]\n",
        "skewed = skewed.index\n",
        "train_new[skewed] = np.log1p(train_new[skewed])\n",
        "test_new[skewed] = np.log1p(test_new[skewed])\n",
        "del test_new['SalePrice']\n",
        "print(train_new.columns)\n",
        "\n",
        "from sklearn.preprocessing import StandardScaler\n",
        "scaler = StandardScaler()\n",
        "scaler.fit(train_new[columns])\n",
        "scaled = scaler.transform(train_new[columns])\n",
        "\n",
        "for i, col in enumerate(columns):\n",
        "      train_new[col] = scaled[:,i]\n",
        "\n",
        "columns.remove('SalePrice')\n",
        "scaled = scaler.fit_transform(test_new[columns])\n",
        "\n",
        "for i, col in enumerate(columns):\n",
        "      test_new[col] = scaled[:,i]\n",
        "    \n"
      ],
      "execution_count": 0,
      "outputs": []
    },
    {
      "metadata": {
        "id": "ynztcQIv4jj_",
        "colab_type": "code",
        "colab": {}
      },
      "cell_type": "code",
      "source": [
        "def onehot(onehot_df, df, column_name, fill_na):\n",
        "       onehot_df[column_name] = df[column_name]\n",
        "       if fill_na is not None:\n",
        "            onehot_df[column_name].fillna(fill_na, inplace=True)\n",
        "\n",
        "       dummies = pd.get_dummies(onehot_df[column_name], prefix=\"_\"+column_name)\n",
        "       onehot_df = onehot_df.join(dummies)\n",
        "       onehot_df = onehot_df.drop([column_name], axis=1)\n",
        "       return onehot_df\n",
        "\n",
        "def munge_onehot(df):\n",
        "       onehot_df = pd.DataFrame(index = df.index)\n",
        "\n",
        "       onehot_df = onehot(onehot_df, df, \"MSSubClass\", None)\n",
        "       onehot_df = onehot(onehot_df, df, \"MSZoning\", \"RL\")\n",
        "       onehot_df = onehot(onehot_df, df, \"LotConfig\", None)\n",
        "       onehot_df = onehot(onehot_df, df, \"Neighborhood\", None)\n",
        "       onehot_df = onehot(onehot_df, df, \"Condition1\", None)\n",
        "       onehot_df = onehot(onehot_df, df, \"BldgType\", None)\n",
        "       onehot_df = onehot(onehot_df, df, \"HouseStyle\", None)\n",
        "       onehot_df = onehot(onehot_df, df, \"RoofStyle\", None)\n",
        "       onehot_df = onehot(onehot_df, df, \"Exterior1st\", \"VinylSd\")\n",
        "       onehot_df = onehot(onehot_df, df, \"Exterior2nd\", \"VinylSd\")\n",
        "       onehot_df = onehot(onehot_df, df, \"Foundation\", None)\n",
        "       onehot_df = onehot(onehot_df, df, \"SaleType\", \"WD\")\n",
        "       onehot_df = onehot(onehot_df, df, \"SaleCondition\", \"Normal\")\n",
        "       onehot_df = onehot(onehot_df, df, \"MasVnrType\", \"None\")\n",
        "\n",
        "       onehot_df = onehot(onehot_df, df, \"LotShape\", None)\n",
        "       onehot_df = onehot(onehot_df, df, \"LandContour\", None)\n",
        "       onehot_df = onehot(onehot_df, df, \"LandSlope\", None)\n",
        "       onehot_df = onehot(onehot_df, df, \"Electrical\", \"SBrkr\")\n",
        "       onehot_df = onehot(onehot_df, df, \"GarageType\", \"None\")\n",
        "       onehot_df = onehot(onehot_df, df, \"PavedDrive\", None)\n",
        "       onehot_df = onehot(onehot_df, df, \"Street\", None)\n",
        "       onehot_df = onehot(onehot_df, df, \"Condition2\", None)\n",
        "       onehot_df = onehot(onehot_df, df, \"RoofMatl\", None)\n",
        "       onehot_df = onehot(onehot_df, df, \"Heating\", None)\n",
        "\n",
        "       # we'll have these as numerical variables too\n",
        "       onehot_df = onehot(onehot_df, df, \"ExterQual\", \"None\")\n",
        "       onehot_df = onehot(onehot_df, df, \"ExterCond\", \"None\")\n",
        "       onehot_df = onehot(onehot_df, df, \"BsmtQual\", \"None\")\n",
        "       onehot_df = onehot(onehot_df, df, \"BsmtCond\", \"None\")\n",
        "       onehot_df = onehot(onehot_df, df, \"HeatingQC\", \"None\")\n",
        "       onehot_df = onehot(onehot_df, df, \"KitchenQual\", \"TA\")\n",
        "       onehot_df = onehot(onehot_df, df, \"GarageQual\", \"None\")\n",
        "       onehot_df = onehot(onehot_df, df, \"GarageCond\", \"None\")\n",
        "       onehot_df = onehot(onehot_df, df, \"BsmtExposure\", \"None\")\n",
        "       onehot_df = onehot(onehot_df, df, \"BsmtFinType1\", \"None\")\n",
        "       onehot_df = onehot(onehot_df, df, \"BsmtFinType2\", \"None\")\n",
        "       onehot_df = onehot(onehot_df, df, \"Functional\", \"Typ\")\n",
        "       onehot_df = onehot(onehot_df, df, \"GarageFinish\", \"None\")\n",
        "       onehot_df = onehot(onehot_df, df, \"MoSold\", None)\n",
        "\n",
        "       # Divide  the years between 1871 and 2010 into slices of 20 years\n",
        "       year_map = pd.concat(pd.Series(\"YearBin\" + str(i+1), index=range(1871+i*20,1891+i*20))  for i in range(0, 7))\n",
        "       yearbin_df = pd.DataFrame(index = df.index)\n",
        "       yearbin_df[\"GarageYrBltBin\"] = df.GarageYrBlt.map(year_map)\n",
        "       yearbin_df[\"GarageYrBltBin\"].fillna(\"NoGarage\", inplace=True)\n",
        "       yearbin_df[\"YearBuiltBin\"] = df.YearBuilt.map(year_map)\n",
        "       yearbin_df[\"YearRemodAddBin\"] = df.YearRemodAdd.map(year_map)\n",
        "\n",
        "       onehot_df = onehot(onehot_df, yearbin_df, \"GarageYrBltBin\", None)\n",
        "       onehot_df = onehot(onehot_df, yearbin_df, \"YearBuiltBin\", None)\n",
        "       onehot_df = onehot(onehot_df, yearbin_df, \"YearRemodAddBin\", None)\n",
        "       return onehot_df\n",
        "\n",
        "#create one-hot features\n",
        "onehot_df = munge_onehot(train)\n",
        "\n",
        "\n",
        "\n",
        "train_new = train_new.join(onehot_df)\n",
        "onehot_df = munge_onehot(test)\n",
        "test_new = test_new.join(onehot_df)\n",
        "print(train_new.shape,test_new.shape)\n",
        "label_df = pd.DataFrame(index = train_new.index, columns = ['SalePrice'])\n",
        "label_df['SalePrice'] = np.log(train['SalePrice'])\n",
        "train_new.drop('SalePrice',axis=1,inplace=True)\n",
        "train_new_drop = ['_HouseStyle_2.5Fin','_Exterior1st_ImStucc',\n",
        "       '_Exterior1st_Stone', '_Exterior2nd_Other',\n",
        "       '_Electrical_Mix',\n",
        "       '_Condition2_RRAn', '_Condition2_RRAe', \"_Condition2_RRNn\",\"_RoofMatl_Membran\", \"_RoofMatl_Metal\", \"_RoofMatl_Roll\", '_RoofMatl_ClyTile', \"_Heating_Floor\", \"_Heating_OthW\"\n",
        "       , '_GarageQual_Ex']\n",
        "test_new_drop = ['_MSSubClass_150']\n",
        "train_new.drop(train_new_drop, axis=1, inplace=True)\n",
        "test_new.drop(test_new_drop, axis=1, inplace=True)\n",
        "print(train_new.columns[300:344])\n",
        "print(test_new.columns[300:344])\n",
        "print(\"Training set size:\", train_new.shape)\n",
        "print(\"Test set size:\", test_new.shape)\n"
      ],
      "execution_count": 0,
      "outputs": []
    },
    {
      "metadata": {
        "id": "OrM2VeUzorKH",
        "colab_type": "code",
        "colab": {}
      },
      "cell_type": "code",
      "source": [
        "import xgboost as xgb\n",
        "regr = xgb.XGBRegressor(colsample_bytree=0.2,\n",
        "                       gamma=0.0,\n",
        "                       learning_rate=0.05,\n",
        "                       max_depth=6,\n",
        "                       min_child_weight=1.5,\n",
        "                       n_estimators=7200,\n",
        "                       reg_alpha=0.9,\n",
        "                       reg_lambda=0.6,\n",
        "                       subsample=0.2,\n",
        "                       seed=42,\n",
        "                       silent=1)\n",
        "\n",
        "regr.fit(train_new, label_df)\n"
      ],
      "execution_count": 0,
      "outputs": []
    },
    {
      "metadata": {
        "id": "Ke-C-u9skDex",
        "colab_type": "code",
        "colab": {}
      },
      "cell_type": "code",
      "source": [
        "from sklearn.metrics import mean_squared_error\n",
        "def rmse(y_test,y_pred):\n",
        "      return np.sqrt(mean_squared_error(y_test,y_pred))\n",
        "y_pred = regr.predict(train_new)\n",
        "y_test = label_df\n",
        "print(\"XGBoost score on training set: \", rmse(y_test, y_pred))\n",
        "\n",
        "from sklearn.linear_model import Lasso\n",
        "\n",
        "#found this best alpha through cross-validation\n",
        "best_alpha = 0.00099\n",
        "\n",
        "regr = Lasso(alpha=best_alpha, max_iter=50000)\n",
        "regr.fit(train_new, label_df)\n",
        "\n",
        "# run prediction on the training set to get a rough idea of how well it does\n",
        "y_pred = regr.predict(train_new)\n",
        "y_test = label_df\n",
        "print(\"Lasso score on training set: \", rmse(y_test, y_pred))\n",
        "\n",
        "#make prediction on the test set\n",
        "y_pred_lasso = regr.predict(test_new)\n",
        "lasso_ex = np.exp(y_pred_lasso)\n",
        "pred1 = pd.DataFrame({'Id': test['Id'], 'SalePrice': lasso_ex})\n",
        "pred1.to_csv('lasso_model.csv', header=True, index=False)"
      ],
      "execution_count": 0,
      "outputs": []
    },
    {
      "metadata": {
        "id": "oEE6Yeyw6-2P",
        "colab_type": "code",
        "colab": {}
      },
      "cell_type": "code",
      "source": [
        "from keras.models import Sequential\n",
        "from keras.layers import Dense\n",
        "from keras.wrappers.scikit_learn import KerasRegressor\n",
        "from sklearn.preprocessing import StandardScaler\n",
        "\n",
        "np.random.seed(10)\n",
        "\n",
        "#create Model\n",
        "#define base model\n",
        "def base_model():\n",
        "     model = Sequential()\n",
        "     model.add(Dense(20, input_dim=344, init='normal', activation='relu'))\n",
        "     model.add(Dense(10, init='normal', activation='relu'))\n",
        "     model.add(Dense(1, init='normal'))\n",
        "     model.compile(loss='mean_squared_error', optimizer = 'adam')\n",
        "     return model\n",
        "\n",
        "seed = 7\n",
        "np.random.seed(seed)\n",
        "\n",
        "scale = StandardScaler()\n",
        "X_train = scale.fit_transform(train_new)\n",
        "X_test = scale.fit_transform(test_new)\n",
        "\n",
        "keras_label = label_df.as_matrix()\n",
        "clf = KerasRegressor(build_fn=base_model, nb_epoch=1000, batch_size=5,verbose=0)\n",
        "clf.fit(X_train,keras_label)\n",
        "\n",
        "#make predictions and create the submission file \n",
        "kpred = clf.predict(X_test) \n",
        "kpred = np.exp(kpred)\n",
        "pred_df = pd.DataFrame(kpred, index=test[\"Id\"], columns=[\"SalePrice\"]) \n",
        "pred_df.to_csv('keras1.csv', header=True, index_label='Id')"
      ],
      "execution_count": 0,
      "outputs": []
    },
    {
      "metadata": {
        "id": "UxAeOHWIkDVR",
        "colab_type": "code",
        "colab": {}
      },
      "cell_type": "code",
      "source": [
        ""
      ],
      "execution_count": 0,
      "outputs": []
    }
  ]
}